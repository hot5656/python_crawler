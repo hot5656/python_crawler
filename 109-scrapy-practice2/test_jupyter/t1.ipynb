{
 "cells": [
  {
   "cell_type": "code",
   "execution_count": 3,
   "id": "ffa9ce3b",
   "metadata": {},
   "outputs": [],
   "source": [
    "import requests\n",
    "headers = {\n",
    "    'user-agent': 'Mozilla/5.0 (Windows NT 10.0; Win64; x64) AppleWebKit/537.36 (KHTML, like Gecko) Chrome/109.0.0.0 Safari/537.36'\n",
    "}\n",
    "res = requests.get('https://www.momoshop.com.tw/category/DgrpCategory.jsp?d_code=2900400054&CPHOT=Y&flag=L&sourcePageType=4', headers=headers)\n",
    "# res.text"
   ]
  },
  {
   "cell_type": "code",
   "execution_count": 4,
   "id": "7f0cc582",
   "metadata": {},
   "outputs": [],
   "source": [
    "from bs4 import BeautifulSoup\n",
    "soup = BeautifulSoup(res.text, 'lxml')"
   ]
  },
  {
   "cell_type": "code",
   "execution_count": 5,
   "id": "52fa4c52",
   "metadata": {},
   "outputs": [],
   "source": [
    "ary = []\n",
    "for good in soup.select('.eachGood'):\n",
    "#     print(good)\n",
    "    title = good.select_one('.prdName').get('title')\n",
    "    price = good.select_one('.prdPrice').text\n",
    "    icon = good.select_one('.iconArea').text\n",
    "    ary.append({\n",
    "        'title':title,\n",
    "        'price': price,\n",
    "        'icon':icon\n",
    "    })\n",
    "# print(ary)"
   ]
  },
  {
   "cell_type": "code",
   "execution_count": 6,
   "id": "595f40e6",
   "metadata": {},
   "outputs": [],
   "source": [
    "import pandas\n",
    "df = pandas.DataFrame(ary)"
   ]
  },
  {
   "cell_type": "code",
   "execution_count": 7,
   "id": "816f9fb3",
   "metadata": {},
   "outputs": [
    {
     "data": {
      "text/html": [
       "<div>\n",
       "<style scoped>\n",
       "    .dataframe tbody tr th:only-of-type {\n",
       "        vertical-align: middle;\n",
       "    }\n",
       "\n",
       "    .dataframe tbody tr th {\n",
       "        vertical-align: top;\n",
       "    }\n",
       "\n",
       "    .dataframe thead th {\n",
       "        text-align: right;\n",
       "    }\n",
       "</style>\n",
       "<table border=\"1\" class=\"dataframe\">\n",
       "  <thead>\n",
       "    <tr style=\"text-align: right;\">\n",
       "      <th></th>\n",
       "      <th>title</th>\n",
       "      <th>price</th>\n",
       "      <th>icon</th>\n",
       "    </tr>\n",
       "  </thead>\n",
       "  <tbody>\n",
       "    <tr>\n",
       "      <th>0</th>\n",
       "      <td>【HERAN禾聯新機+塵蹣吸頭+吸水配件】智慧感應雙HEPA無線吸塵器超值大全配(HVC-3...</td>\n",
       "      <td>$4,788</td>\n",
       "      <td>折價券登記贈品</td>\n",
       "    </tr>\n",
       "    <tr>\n",
       "      <th>1</th>\n",
       "      <td>【Bmxmao】MAO Clean M7 旗艦25kPa 電動濕拖無線吸塵器-豪華16配件組...</td>\n",
       "      <td>$10,336</td>\n",
       "      <td>折價券登記</td>\n",
       "    </tr>\n",
       "    <tr>\n",
       "      <th>2</th>\n",
       "      <td>【小米有品】SWDK速吸拖四合一無線吸塵洗地機(乾濕兩用 可替換電池)</td>\n",
       "      <td>$4,999</td>\n",
       "      <td>折價券登記</td>\n",
       "    </tr>\n",
       "    <tr>\n",
       "      <th>3</th>\n",
       "      <td>【BISSELL 必勝】四合一吸塵拖地洗地機17135(乾濕兩用)</td>\n",
       "      <td>$5,999</td>\n",
       "      <td>折價券登記</td>\n",
       "    </tr>\n",
       "    <tr>\n",
       "      <th>4</th>\n",
       "      <td>【Electrolux 伊萊克斯】超級完美管家吸塵器-HEPA進化版(夢幻粉紅ZB3314AK)</td>\n",
       "      <td>$6,990</td>\n",
       "      <td>速折價券登記贈品</td>\n",
       "    </tr>\n",
       "  </tbody>\n",
       "</table>\n",
       "</div>"
      ],
      "text/plain": [
       "                                               title    price      icon\n",
       "0  【HERAN禾聯新機+塵蹣吸頭+吸水配件】智慧感應雙HEPA無線吸塵器超值大全配(HVC-3...   $4,788   折價券登記贈品\n",
       "1  【Bmxmao】MAO Clean M7 旗艦25kPa 電動濕拖無線吸塵器-豪華16配件組...  $10,336     折價券登記\n",
       "2                【小米有品】SWDK速吸拖四合一無線吸塵洗地機(乾濕兩用 可替換電池)   $4,999     折價券登記\n",
       "3                  【BISSELL 必勝】四合一吸塵拖地洗地機17135(乾濕兩用)   $5,999     折價券登記\n",
       "4   【Electrolux 伊萊克斯】超級完美管家吸塵器-HEPA進化版(夢幻粉紅ZB3314AK)   $6,990  速折價券登記贈品"
      ]
     },
     "execution_count": 7,
     "metadata": {},
     "output_type": "execute_result"
    }
   ],
   "source": [
    "df.head()"
   ]
  },
  {
   "cell_type": "code",
   "execution_count": null,
   "id": "898fa1b4",
   "metadata": {},
   "outputs": [],
   "source": []
  },
  {
   "cell_type": "code",
   "execution_count": null,
   "id": "b86e5f8a",
   "metadata": {},
   "outputs": [],
   "source": []
  },
  {
   "cell_type": "code",
   "execution_count": null,
   "id": "8980b479",
   "metadata": {},
   "outputs": [],
   "source": []
  },
  {
   "cell_type": "code",
   "execution_count": null,
   "id": "f06342b8",
   "metadata": {},
   "outputs": [],
   "source": []
  }
 ],
 "metadata": {
  "kernelspec": {
   "display_name": "Python 3 (ipykernel)",
   "language": "python",
   "name": "python3"
  },
  "language_info": {
   "codemirror_mode": {
    "name": "ipython",
    "version": 3
   },
   "file_extension": ".py",
   "mimetype": "text/x-python",
   "name": "python",
   "nbconvert_exporter": "python",
   "pygments_lexer": "ipython3",
   "version": "3.10.6"
  }
 },
 "nbformat": 4,
 "nbformat_minor": 5
}
