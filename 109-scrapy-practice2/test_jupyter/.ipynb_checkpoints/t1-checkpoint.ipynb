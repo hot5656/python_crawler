{
 "cells": [
  {
   "cell_type": "code",
   "execution_count": 17,
   "id": "201c777d",
   "metadata": {},
   "outputs": [],
   "source": [
    "import requests\n",
    "headers = {\n",
    "    'user-agent': 'Mozilla/5.0 (Windows NT 10.0; Win64; x64) AppleWebKit/537.36 (KHTML, like Gecko) Chrome/109.0.0.0 Safari/537.36'\n",
    "}\n",
    "res = requests.get('https://www.momoshop.com.tw/category/DgrpCategory.jsp?d_code=2900400054&CPHOT=Y&flag=L&sourcePageType=4', headers=headers)\n",
    "# res.text"
   ]
  },
  {
   "cell_type": "code",
   "execution_count": 5,
   "id": "2bd8e0af",
   "metadata": {},
   "outputs": [],
   "source": [
    "from bs4 import BeautifulSoup\n",
    "soup = BeautifulSoup(res.text, 'lxml')"
   ]
  },
  {
   "cell_type": "code",
   "execution_count": 22,
   "id": "cfd36eeb",
   "metadata": {},
   "outputs": [],
   "source": [
    "ary = []\n",
    "for good in soup.select('.eachGood'):\n",
    "#     print(good)\n",
    "    title = good.select_one('.prdName').get('title')\n",
    "    price = good.select_one('.prdPrice').text\n",
    "    icon = good.select_one('.iconArea').text\n",
    "    ary.append({\n",
    "        'title':title,\n",
    "        'price': price,\n",
    "        'icon':icon\n",
    "    })\n"
   ]
  },
  {
   "cell_type": "code",
   "execution_count": 20,
   "id": "20a09642",
   "metadata": {},
   "outputs": [],
   "source": [
    "import pandas\n",
    "df = pandas.DataFrame(ary)"
   ]
  },
  {
   "cell_type": "code",
   "execution_count": 23,
   "id": "3894d03d",
   "metadata": {},
   "outputs": [
    {
     "data": {
      "text/html": [
       "<div>\n",
       "<style scoped>\n",
       "    .dataframe tbody tr th:only-of-type {\n",
       "        vertical-align: middle;\n",
       "    }\n",
       "\n",
       "    .dataframe tbody tr th {\n",
       "        vertical-align: top;\n",
       "    }\n",
       "\n",
       "    .dataframe thead th {\n",
       "        text-align: right;\n",
       "    }\n",
       "</style>\n",
       "<table border=\"1\" class=\"dataframe\">\n",
       "  <thead>\n",
       "    <tr style=\"text-align: right;\">\n",
       "      <th></th>\n",
       "      <th>title</th>\n",
       "      <th>price</th>\n",
       "      <th>icon</th>\n",
       "    </tr>\n",
       "  </thead>\n",
       "  <tbody>\n",
       "    <tr>\n",
       "      <th>0</th>\n",
       "      <td>【小米有品】SWDK速吸拖四合一無線吸塵洗地機(乾濕兩用 可替換電池)</td>\n",
       "      <td>$4,999</td>\n",
       "      <td>折價券登記贈品</td>\n",
       "    </tr>\n",
       "    <tr>\n",
       "      <th>1</th>\n",
       "      <td>【Electrolux 伊萊克斯】Well Q6無線吸塵器(WQ61-1EDB)</td>\n",
       "      <td>$6,990</td>\n",
       "      <td>折價券登記贈品</td>\n",
       "    </tr>\n",
       "    <tr>\n",
       "      <th>2</th>\n",
       "      <td>【Bmxmao】MAO Clean M7 旗艦25kPa 電動濕拖無線吸塵器-豪華16配件組...</td>\n",
       "      <td>$10,336</td>\n",
       "      <td>折價券登記贈品</td>\n",
       "    </tr>\n",
       "    <tr>\n",
       "      <th>3</th>\n",
       "      <td>【BISSELL 必勝】四合一吸塵拖地洗地機17135(乾濕兩用)</td>\n",
       "      <td>$5,999</td>\n",
       "      <td>折價券登記贈品</td>\n",
       "    </tr>\n",
       "    <tr>\n",
       "      <th>4</th>\n",
       "      <td>【Electrolux 伊萊克斯】超級完美管家吸塵器-HEPA進化版(夢幻粉紅ZB3314AK)</td>\n",
       "      <td>$6,990</td>\n",
       "      <td>速折價券登記贈品</td>\n",
       "    </tr>\n",
       "  </tbody>\n",
       "</table>\n",
       "</div>"
      ],
      "text/plain": [
       "                                               title    price      icon\n",
       "0                【小米有品】SWDK速吸拖四合一無線吸塵洗地機(乾濕兩用 可替換電池)   $4,999   折價券登記贈品\n",
       "1           【Electrolux 伊萊克斯】Well Q6無線吸塵器(WQ61-1EDB)   $6,990   折價券登記贈品\n",
       "2  【Bmxmao】MAO Clean M7 旗艦25kPa 電動濕拖無線吸塵器-豪華16配件組...  $10,336   折價券登記贈品\n",
       "3                  【BISSELL 必勝】四合一吸塵拖地洗地機17135(乾濕兩用)   $5,999   折價券登記贈品\n",
       "4   【Electrolux 伊萊克斯】超級完美管家吸塵器-HEPA進化版(夢幻粉紅ZB3314AK)   $6,990  速折價券登記贈品"
      ]
     },
     "execution_count": 23,
     "metadata": {},
     "output_type": "execute_result"
    }
   ],
   "source": [
    "df.head()"
   ]
  },
  {
   "cell_type": "code",
   "execution_count": null,
   "id": "89104ff7",
   "metadata": {},
   "outputs": [],
   "source": []
  },
  {
   "cell_type": "code",
   "execution_count": null,
   "id": "a826163b",
   "metadata": {},
   "outputs": [],
   "source": []
  },
  {
   "cell_type": "code",
   "execution_count": null,
   "id": "a877dc15",
   "metadata": {},
   "outputs": [],
   "source": []
  },
  {
   "cell_type": "code",
   "execution_count": null,
   "id": "a91b9889",
   "metadata": {},
   "outputs": [],
   "source": []
  }
 ],
 "metadata": {
  "kernelspec": {
   "display_name": "Python 3 (ipykernel)",
   "language": "python",
   "name": "python3"
  },
  "language_info": {
   "codemirror_mode": {
    "name": "ipython",
    "version": 3
   },
   "file_extension": ".py",
   "mimetype": "text/x-python",
   "name": "python",
   "nbconvert_exporter": "python",
   "pygments_lexer": "ipython3",
   "version": "3.10.6"
  }
 },
 "nbformat": 4,
 "nbformat_minor": 5
}
